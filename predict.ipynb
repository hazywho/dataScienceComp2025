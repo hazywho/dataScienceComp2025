{
 "cells": [
  {
   "cell_type": "code",
   "execution_count": 17,
   "metadata": {},
   "outputs": [],
   "source": [
    "import numpy as np"
   ]
  },
  {
   "cell_type": "code",
   "execution_count": null,
   "metadata": {},
   "outputs": [],
   "source": [
    "import numpy as np\n",
    "import torch\n",
    "import torch.nn as nn\n",
    "from sklearn.preprocessing import StandardScaler\n",
    "scaler = StandardScaler()"
   ]
  },
  {
   "cell_type": "code",
   "execution_count": 19,
   "metadata": {},
   "outputs": [],
   "source": [
    "class lmodel(nn.Module):\n",
    "    def __init__(self):\n",
    "        super(lmodel,self).__init__()\n",
    "        self.l1 = nn.Linear(7,126)\n",
    "        self.l2 = nn.Linear(126,126)\n",
    "        self.l3 = nn.Linear(126,64)\n",
    "        self.l4 = nn.Linear(64,1)\n",
    "        self.relu = nn.ReLU()\n",
    "        self.sigmoid = nn.Sigmoid()\n",
    "        self.dropout = nn.Dropout(0.1)\n",
    "        \n",
    "    def forward(self,x):\n",
    "        x = self.l1(x) #input layer\n",
    "        x = self.relu(x)\n",
    "        x = self.dropout(x)\n",
    "        x = self.l2(x)\n",
    "        x = self.relu(x)\n",
    "        x = self.dropout(x)\n",
    "        x = self.l3(x)\n",
    "        x = self.relu(x)\n",
    "\n",
    "        x = self.l4(x) #output layer\n",
    "        x = self.sigmoid(x)\n",
    "        \n",
    "        return x\n"
   ]
  },
  {
   "cell_type": "code",
   "execution_count": 43,
   "metadata": {},
   "outputs": [
    {
     "ename": "ValueError",
     "evalue": "invalid literal for int() with base 10: ''",
     "output_type": "error",
     "traceback": [
      "\u001b[1;31m---------------------------------------------------------------------------\u001b[0m",
      "\u001b[1;31mValueError\u001b[0m                                Traceback (most recent call last)",
      "Cell \u001b[1;32mIn[43], line 11\u001b[0m\n\u001b[0;32m      9\u001b[0m ans \u001b[38;5;241m=\u001b[39m \u001b[38;5;124m\"\u001b[39m\u001b[38;5;124m\"\u001b[39m\n\u001b[0;32m     10\u001b[0m \u001b[38;5;28;01mfor\u001b[39;00m v \u001b[38;5;129;01min\u001b[39;00m columns:\n\u001b[1;32m---> 11\u001b[0m     ans \u001b[38;5;241m=\u001b[39m \u001b[38;5;28;43mint\u001b[39;49m\u001b[43m(\u001b[49m\u001b[38;5;28;43minput\u001b[39;49m\u001b[43m(\u001b[49m\u001b[38;5;124;43m\"\u001b[39;49m\u001b[38;5;124;43myour \u001b[39;49m\u001b[38;5;124;43m\"\u001b[39;49m\u001b[43m \u001b[49m\u001b[38;5;241;43m+\u001b[39;49m\u001b[43m \u001b[49m\u001b[43mv\u001b[49m\u001b[43m \u001b[49m\u001b[38;5;241;43m+\u001b[39;49m\u001b[43m \u001b[49m\u001b[38;5;124;43m\"\u001b[39;49m\u001b[38;5;124;43m (rate 1-5, integer only.)\u001b[39;49m\u001b[38;5;124;43m\"\u001b[39;49m\u001b[43m)\u001b[49m\u001b[43m)\u001b[49m\n\u001b[0;32m     12\u001b[0m     \u001b[38;5;28;01mwhile\u001b[39;00m(ans \u001b[38;5;241m<\u001b[39m\u001b[38;5;241m0\u001b[39m \u001b[38;5;129;01mor\u001b[39;00m ans \u001b[38;5;241m>\u001b[39m\u001b[38;5;241m5\u001b[39m):\n\u001b[0;32m     13\u001b[0m         ans \u001b[38;5;241m=\u001b[39m \u001b[38;5;28mint\u001b[39m(\u001b[38;5;28minput\u001b[39m(\u001b[38;5;124m\"\u001b[39m\u001b[38;5;124myour \u001b[39m\u001b[38;5;124m\"\u001b[39m \u001b[38;5;241m+\u001b[39m v \u001b[38;5;241m+\u001b[39m \u001b[38;5;124m\"\u001b[39m\u001b[38;5;124m (rate 1-5, integer only.)\u001b[39m\u001b[38;5;124m\"\u001b[39m))\n",
      "\u001b[1;31mValueError\u001b[0m: invalid literal for int() with base 10: ''"
     ]
    }
   ],
   "source": [
    "model = torch.load(\"model.pth\", weights_only=False)\n",
    "\n",
    "#validation\n",
    "columns = [\"GENERAL APPEARANCE\", \"MANNER OF SPEAKING\", \"PHYSICAL CONDITION\", \n",
    "           \"MENTAL ALERTNESS\", \"SELF-CONFIDENCE\", \"ABILITY TO PRESENT IDEAS\", \n",
    "           \"COMMUNICATION SKILLS\"]\n",
    "\n",
    "value=[]\n",
    "ans = \"\"\n",
    "for v in columns:\n",
    "    ans = int(input(\"your \" + v + \" (rate 1-5, integer only.)\"))\n",
    "    while(ans <0 or ans >5):\n",
    "        ans = int(input(\"your \" + v + \" (rate 1-5, integer only.)\"))\n",
    "        \n",
    "    value.append(ans)\n",
    "\n",
    "value = np.array(value)\n",
    "value = value.reshape(1,7)\n",
    "print(value)\n",
    "\n",
    "value = scaler.fit_transform(value)\n",
    "inTensor=torch.tensor(value,dtype=torch.float32)\n",
    "\n",
    "with torch.no_grad():\n",
    "    pred = model.forward(inTensor)\n",
    "\n",
    "print(f\"chances of getting employed: {round(float(pred)*100,2)}%\")"
   ]
  }
 ],
 "metadata": {
  "kernelspec": {
   "display_name": "base",
   "language": "python",
   "name": "python3"
  },
  "language_info": {
   "codemirror_mode": {
    "name": "ipython",
    "version": 3
   },
   "file_extension": ".py",
   "mimetype": "text/x-python",
   "name": "python",
   "nbconvert_exporter": "python",
   "pygments_lexer": "ipython3",
   "version": "3.12.4"
  }
 },
 "nbformat": 4,
 "nbformat_minor": 2
}
