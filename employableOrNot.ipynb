{
 "cells": [
  {
   "cell_type": "code",
   "execution_count": 20,
   "metadata": {},
   "outputs": [],
   "source": [
    "import numpy as np"
   ]
  },
  {
   "cell_type": "code",
   "execution_count": 21,
   "metadata": {},
   "outputs": [],
   "source": [
    "import torch\n",
    "import torch.nn as nn\n",
    "import pandas as pd"
   ]
  },
  {
   "cell_type": "code",
   "execution_count": 22,
   "metadata": {},
   "outputs": [
    {
     "name": "stdout",
     "output_type": "stream",
     "text": [
      "Name of Student\n",
      "Student 1       1\n",
      "Student 2       1\n",
      "Student 3       0\n",
      "Student 4       0\n",
      "Student 5       1\n",
      "               ..\n",
      "Student 2996    1\n",
      "Student 2997    1\n",
      "Student 2998    1\n",
      "Student 2999    0\n",
      "Student 3000    1\n",
      "Name: CLASS, Length: 2982, dtype: int64\n"
     ]
    }
   ],
   "source": [
    "from sklearn.model_selection import train_test_split\n",
    "df = pd.read_excel(r\"C:\\Users\\zanyi\\Documents\\GitHub\\dataScienceComp2025\\Data\\employability\\Student-Employability-Datasets.xlsx\",index_col=\"Name of Student\")\n",
    "\n",
    "y = df[\"CLASS\"].map({\"Employable\":1, \"LessEmployable\":0})\n",
    "print(y)\n",
    "x = df.drop(axis=\"columns\",labels=[\"CLASS\", \"Student Performance Rating\"])"
   ]
  },
  {
   "cell_type": "code",
   "execution_count": 23,
   "metadata": {},
   "outputs": [
    {
     "name": "stdout",
     "output_type": "stream",
     "text": [
      "(2236, 7)\n",
      "(2236,)\n",
      "                 GENERAL APPEARANCE  MANNER OF SPEAKING  PHYSICAL CONDITION  \\\n",
      "Name of Student                                                               \n",
      "Student 782                       5                   4                   5   \n",
      "Student 2301                      5                   4                   5   \n",
      "Student 855                       4                   4                   5   \n",
      "Student 1026                      5                   5                   5   \n",
      "Student 27                        4                   4                   4   \n",
      "...                             ...                 ...                 ...   \n",
      "Student 2231                      5                   3                   3   \n",
      "Student 2870                      4                   5                   5   \n",
      "Student 283                       4                   4                   5   \n",
      "Student 403                       4                   4                   3   \n",
      "Student 649                       4                   4                   4   \n",
      "\n",
      "                 MENTAL ALERTNESS  SELF-CONFIDENCE  ABILITY TO PRESENT IDEAS  \\\n",
      "Name of Student                                                                \n",
      "Student 782                     5                4                         4   \n",
      "Student 2301                    5                5                         5   \n",
      "Student 855                     4                4                         4   \n",
      "Student 1026                    5                5                         5   \n",
      "Student 27                      4                3                         3   \n",
      "...                           ...              ...                       ...   \n",
      "Student 2231                    3                4                         3   \n",
      "Student 2870                    5                5                         4   \n",
      "Student 283                     4                4                         4   \n",
      "Student 403                     3                3                         4   \n",
      "Student 649                     4                3                         4   \n",
      "\n",
      "                 COMMUNICATION SKILLS  \n",
      "Name of Student                        \n",
      "Student 782                         4  \n",
      "Student 2301                        4  \n",
      "Student 855                         3  \n",
      "Student 1026                        5  \n",
      "Student 27                          3  \n",
      "...                               ...  \n",
      "Student 2231                        3  \n",
      "Student 2870                        5  \n",
      "Student 283                         4  \n",
      "Student 403                         4  \n",
      "Student 649                         3  \n",
      "\n",
      "[2236 rows x 7 columns]\n"
     ]
    }
   ],
   "source": [
    "train_x,val_x,train_y,val_y=train_test_split(x,y)\n",
    "print(train_x.shape)\n",
    "print(train_y.shape)\n",
    "print(train_x)"
   ]
  },
  {
   "cell_type": "code",
   "execution_count": 24,
   "metadata": {},
   "outputs": [],
   "source": [
    "class lmodel(nn.Module):\n",
    "    def __init__(self):\n",
    "        super(lmodel,self).__init__()\n",
    "        self.l1 = nn.Linear(7,126)\n",
    "        self.l2 = nn.Linear(126,126)\n",
    "        self.l3 = nn.Linear(126,64)\n",
    "        self.l4 = nn.Linear(64,1)\n",
    "        self.relu = nn.ReLU()\n",
    "        self.sigmoid = nn.Sigmoid()\n",
    "        self.dropout = nn.Dropout(0.1)\n",
    "        \n",
    "    def forward(self,x):\n",
    "        x = self.l1(x) #input layer\n",
    "        x = self.relu(x)\n",
    "        x = self.dropout(x)\n",
    "        x = self.l2(x)\n",
    "        x = self.relu(x)\n",
    "        x = self.dropout(x)\n",
    "        x = self.l3(x)\n",
    "        x = self.relu(x)\n",
    "\n",
    "        x = self.l4(x) #output layer\n",
    "        x = self.sigmoid(x)\n",
    "        \n",
    "        return x"
   ]
  },
  {
   "cell_type": "code",
   "execution_count": 25,
   "metadata": {},
   "outputs": [
    {
     "name": "stdout",
     "output_type": "stream",
     "text": [
      "tensor([[ 1.1223,  0.1538,  1.3784,  ...,  0.1147,  0.2651,  0.6432],\n",
      "        [ 1.1223,  0.1538,  1.3784,  ...,  1.3540,  1.6406,  0.6432],\n",
      "        [-0.3521,  0.1538,  1.3784,  ...,  0.1147,  0.2651, -0.6996],\n",
      "        ...,\n",
      "        [-0.3521,  0.1538,  1.3784,  ...,  0.1147,  0.2651,  0.6432],\n",
      "        [-0.3521,  0.1538, -1.3099,  ..., -1.1246,  0.2651,  0.6432],\n",
      "        [-0.3521,  0.1538,  0.0343,  ..., -1.1246,  0.2651, -0.6996]])\n"
     ]
    }
   ],
   "source": [
    "#data preprocessing, possible data leakage\n",
    "from sklearn.preprocessing import StandardScaler\n",
    "\n",
    "scaler = StandardScaler()\n",
    "\n",
    "train_x = train_x.to_numpy() #preprocess train\n",
    "train_x = scaler.fit_transform(train_x)\n",
    "train_x = torch.from_numpy(train_x).float()\n",
    "\n",
    "val_x = val_x.to_numpy()\n",
    "val_x = scaler.transform(val_x) #use trained transformer on val\n",
    "val_x = torch.from_numpy(val_x).float()\n",
    "\n",
    "train_y = train_y.to_numpy()\n",
    "train_y = torch.from_numpy(train_y).float() #this wont hurt accuracy\n",
    "\n",
    "val_y = val_y.to_numpy()\n",
    "val_y = torch.from_numpy(val_y).float()\n",
    "print(train_x)"
   ]
  },
  {
   "cell_type": "code",
   "execution_count": 26,
   "metadata": {},
   "outputs": [
    {
     "name": "stdout",
     "output_type": "stream",
     "text": [
      "epoch number: 0, loss: 0.6936846971511841, accuracy on val: 0.5884718298912048, training acc: 0.5827370285987854\n",
      "epoch number: 50, loss: 0.3046315610408783, accuracy on val: 0.8364611268043518, training acc: 0.8430232405662537\n",
      "epoch number: 100, loss: 0.2625536024570465, accuracy on val: 0.8512064218521118, training acc: 0.8533094525337219\n",
      "epoch number: 150, loss: 0.2518340051174164, accuracy on val: 0.8565683364868164, training acc: 0.8542039394378662\n",
      "epoch number: 200, loss: 0.25074994564056396, accuracy on val: 0.8431635499000549, training acc: 0.8582289814949036\n",
      "epoch number: 250, loss: 0.24672818183898926, accuracy on val: 0.8404825925827026, training acc: 0.8577817678451538\n",
      "epoch number: 300, loss: 0.24824073910713196, accuracy on val: 0.8552278876304626, training acc: 0.85599285364151\n",
      "epoch number: 350, loss: 0.24806666374206543, accuracy on val: 0.8512064218521118, training acc: 0.8591234087944031\n",
      "epoch number: 400, loss: 0.24670767784118652, accuracy on val: 0.8565683364868164, training acc: 0.8564400672912598\n",
      "epoch number: 450, loss: 0.2427547574043274, accuracy on val: 0.8605898022651672, training acc: 0.85599285364151\n",
      "done\n"
     ]
    },
    {
     "data": {
      "image/png": "[encoded data removed]",
      "text/plain": [
       "<Figure size 600x600 with 1 Axes>"
      ]
     },
     "metadata": {},
     "output_type": "display_data"
    }
   ],
   "source": [
    "import matplotlib.pyplot as plt\n",
    "\n",
    "model = lmodel()\n",
    "criterion = nn.BCELoss()\n",
    "optimizer = torch.optim.Adam(model.parameters(),lr=0.003)\n",
    "\n",
    "accLog = []\n",
    "acclog2 = []\n",
    "epochs = 500\n",
    "for epoch in range(0,epochs):\n",
    "    val = model.forward(x=train_x)\n",
    "    val = val.squeeze(1)\n",
    "    \n",
    "    loss = criterion(val,train_y)\n",
    "\n",
    "    loss.backward()\n",
    "    torch.nn.utils.clip_grad_norm_(model.parameters(),max_norm=1.0)\n",
    "    optimizer.step()\n",
    "    optimizer.zero_grad()\n",
    "    accLog.append(loss.item())\n",
    "    with torch.no_grad():\n",
    "        model_outputs = model.forward(x=val_x).squeeze(1)\n",
    "        threshold = 0.5\n",
    "        predicted_labels = (model_outputs >= threshold).float()  # Convert to 0 or 1\n",
    "\n",
    "        # Step 2: Compare predictions with true labels\n",
    "        correct_predictions = (predicted_labels == val_y).float()\n",
    "\n",
    "        # Step 3: Calculate accuracy\n",
    "        accuracy = correct_predictions.sum() / len(val_y)\n",
    "        \n",
    "        model_outputs = model.forward(x=train_x).squeeze(1)\n",
    "        threshold = 0.5\n",
    "        predicted_labels = (model_outputs >= threshold).float()  # Convert to 0 or 1\n",
    "\n",
    "        # Step 2: Compare predictions with true labels\n",
    "        correct_predictions = (predicted_labels == train_y).float()\n",
    "\n",
    "        # Step 3: Calculate accuracy\n",
    "        accuracy2 = correct_predictions.sum() / len(train_y)\n",
    "        \n",
    "    print(f\"epoch number: {epoch}, loss: {loss.item()}, accuracy on val: {accuracy}, training acc: {accuracy2}\")if epoch%50==0 else None\n",
    "    \n",
    "fig,ax = plt.subplots(figsize=(6,6))\n",
    "\n",
    "ax.plot(range(0,epochs),accLog,label=\"Loss\")\n",
    "plt.legend()\n",
    "print(\"done\")\n",
    "plt.show()\n",
    "    "
   ]
  },
  {
   "cell_type": "code",
   "execution_count": 27,
   "metadata": {},
   "outputs": [],
   "source": [
    "#export model\n",
    "# Assuming `model` is your trained PyTorch model\n",
    "torch.save(model, 'model.pth')"
   ]
  },
  {
   "cell_type": "code",
   "execution_count": 28,
   "metadata": {},
   "outputs": [
    {
     "name": "stdout",
     "output_type": "stream",
     "text": [
      "[[5 5 0 0 0 0 0]]\n",
      "chances of getting employed: 50.73%\n"
     ]
    }
   ],
   "source": [
    "#validation\n",
    "columns = [\"GENERAL APPEARANCE\", \"MANNER OF SPEAKING\", \"PHYSICAL CONDITION\", \n",
    "           \"MENTAL ALERTNESS\", \"SELF-CONFIDENCE\", \"ABILITY TO PRESENT IDEAS\", \n",
    "           \"COMMUNICATION SKILLS\"]\n",
    "\n",
    "value=[5,5,0,0,0,0,0]\n",
    "# ans = \"\"\n",
    "# for v in columns:\n",
    "#     ans = int(input(\"your \" + v + \" (rate 1-5, integer only.)\"))\n",
    "#     while(ans <0 or ans >5):\n",
    "#         ans = int(input(\"your \" + v + \" (rate 1-5, integer only.)\"))\n",
    "        \n",
    "#     value.append(ans)\n",
    "\n",
    "value = np.array(value)\n",
    "value = value.reshape(1,7)\n",
    "print(value)\n",
    "\n",
    "value = scaler.transform(value)\n",
    "inTensor=torch.tensor(value,dtype=torch.float32)\n",
    "\n",
    "model = lmodel()\n",
    "\n",
    "with torch.no_grad():\n",
    "    pred = model.forward(inTensor)\n",
    "\n",
    "print(f\"chances of getting employed: {round(float(pred)*100,2)}%\")\n",
    "\n",
    "\n"
   ]
  },
  {
   "cell_type": "code",
   "execution_count": null,
   "metadata": {},
   "outputs": [],
   "source": []
  }
 ],
 "metadata": {
  "kernelspec": {
   "display_name": "base",
   "language": "python",
   "name": "python3"
  },
  "language_info": {
   "codemirror_mode": {
    "name": "ipython",
    "version": 3
   },
   "file_extension": ".py",
   "mimetype": "text/x-python",
   "name": "python",
   "nbconvert_exporter": "python",
   "pygments_lexer": "ipython3",
   "version": "3.12.4"
  }
 },
 "nbformat": 4,
 "nbformat_minor": 2
}
