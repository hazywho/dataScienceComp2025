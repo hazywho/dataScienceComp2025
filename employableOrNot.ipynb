{
 "cells": [
  {
   "cell_type": "code",
   "execution_count": 302,
   "metadata": {},
   "outputs": [],
   "source": [
    "import numpy as np"
   ]
  },
  {
   "cell_type": "code",
   "execution_count": 303,
   "metadata": {},
   "outputs": [],
   "source": [
    "import torch\n",
    "import torch.nn as nn\n",
    "import pandas as pd"
   ]
  },
  {
   "cell_type": "code",
   "execution_count": 304,
   "metadata": {},
   "outputs": [
    {
     "name": "stdout",
     "output_type": "stream",
     "text": [
      "Name of Student\n",
      "Student 1       1\n",
      "Student 2       1\n",
      "Student 3       0\n",
      "Student 4       0\n",
      "Student 5       1\n",
      "               ..\n",
      "Student 2996    1\n",
      "Student 2997    1\n",
      "Student 2998    1\n",
      "Student 2999    0\n",
      "Student 3000    1\n",
      "Name: CLASS, Length: 2982, dtype: int64\n"
     ]
    }
   ],
   "source": [
    "from sklearn.model_selection import train_test_split\n",
    "df = pd.read_excel(r\"C:\\Users\\zanyi\\Documents\\GitHub\\dataScienceComp2025\\Data\\employability\\Student-Employability-Datasets.xlsx\",index_col=\"Name of Student\")\n",
    "\n",
    "y = df[\"CLASS\"].map({\"Employable\":1, \"LessEmployable\":0})\n",
    "print(y)\n",
    "x = df.drop(axis=\"columns\",labels=[\"CLASS\", \"Student Performance Rating\"])"
   ]
  },
  {
   "cell_type": "code",
   "execution_count": 305,
   "metadata": {},
   "outputs": [
    {
     "name": "stdout",
     "output_type": "stream",
     "text": [
      "(2236, 7)\n",
      "(2236,)\n",
      "                 GENERAL APPEARANCE  ...  COMMUNICATION SKILLS\n",
      "Name of Student                      ...                      \n",
      "Student 2467                      4  ...                     4\n",
      "Student 1528                      4  ...                     4\n",
      "Student 2768                      5  ...                     5\n",
      "Student 239                       5  ...                     4\n",
      "Student 2974                      4  ...                     3\n",
      "...                             ...  ...                   ...\n",
      "Student 1080                      4  ...                     4\n",
      "Student 1577                      5  ...                     3\n",
      "Student 1392                      5  ...                     4\n",
      "Student 180                       4  ...                     4\n",
      "Student 1469                      4  ...                     2\n",
      "\n",
      "[2236 rows x 7 columns]\n"
     ]
    }
   ],
   "source": [
    "train_x,val_x,train_y,val_y=train_test_split(x,y)\n",
    "print(train_x.shape)\n",
    "print(train_y.shape)\n",
    "print(train_x)"
   ]
  },
  {
   "cell_type": "code",
   "execution_count": 306,
   "metadata": {},
   "outputs": [],
   "source": [
    "class lmodel(nn.Module):\n",
    "    def __init__(self):\n",
    "        super(lmodel,self).__init__()\n",
    "        self.l1 = nn.Linear(7,126)\n",
    "        self.l2 = nn.Linear(126,126)\n",
    "        self.l3 = nn.Linear(126,64)\n",
    "        self.l4 = nn.Linear(64,1)\n",
    "        self.relu = nn.ReLU()\n",
    "        self.sigmoid = nn.Sigmoid()\n",
    "        self.dropout = nn.Dropout(0.2)\n",
    "        \n",
    "    def forward(self,x):\n",
    "        x = self.l1(x) #input layer\n",
    "        x = self.relu(x)\n",
    "        x = self.dropout(x)\n",
    "        x = self.l2(x)\n",
    "        x = self.relu(x)\n",
    "        x = self.dropout(x)\n",
    "        x = self.l3(x)\n",
    "        x = self.relu(x)\n",
    "\n",
    "        x = self.l4(x) #output layer\n",
    "        x = self.sigmoid(x)\n",
    "        \n",
    "        return x"
   ]
  },
  {
   "cell_type": "code",
   "execution_count": 307,
   "metadata": {},
   "outputs": [
    {
     "name": "stdout",
     "output_type": "stream",
     "text": [
      "tensor([[-0.3677,  0.1399,  1.3844,  ...,  0.1072,  0.2354,  0.6066],\n",
      "        [-0.3677,  0.1399,  0.0374,  ...,  0.1072,  0.2354,  0.6066],\n",
      "        [ 1.1084,  1.4596,  0.0374,  ...,  0.1072,  1.5885,  1.9352],\n",
      "        ...,\n",
      "        [ 1.1084,  0.1399,  1.3844,  ...,  1.3425,  1.5885,  0.6066],\n",
      "        [-0.3677,  1.4596,  1.3844,  ...,  0.1072,  0.2354,  0.6066],\n",
      "        [-0.3677, -1.1798, -1.3097,  ..., -1.1282, -1.1177, -2.0505]])\n"
     ]
    }
   ],
   "source": [
    "#data preprocessing, possible data leakage\n",
    "from sklearn.preprocessing import StandardScaler\n",
    "\n",
    "scaler = StandardScaler()\n",
    "\n",
    "train_x = train_x.to_numpy() #preprocess train\n",
    "train_x = scaler.fit_transform(train_x)\n",
    "train_x = torch.from_numpy(train_x).float()\n",
    "\n",
    "val_x = val_x.to_numpy()\n",
    "val_x = scaler.transform(val_x) #use trained transformer on val\n",
    "val_x = torch.from_numpy(val_x).float()\n",
    "\n",
    "train_y = train_y.to_numpy()\n",
    "train_y = torch.from_numpy(train_y).float() #this wont hurt accuracy\n",
    "\n",
    "val_y = val_y.to_numpy()\n",
    "val_y = torch.from_numpy(val_y).float()\n",
    "print(train_x)"
   ]
  },
  {
   "cell_type": "code",
   "execution_count": 308,
   "metadata": {},
   "outputs": [
    {
     "name": "stdout",
     "output_type": "stream",
     "text": [
      "epoch number: 0, loss: 0.6917344927787781, accuracy on val: 0.595174252986908, training acc: 0.5746869444847107\n",
      "epoch number: 50, loss: 0.3339633047580719, accuracy on val: 0.8297587037086487, training acc: 0.8237924575805664\n",
      "epoch number: 100, loss: 0.26716309785842896, accuracy on val: 0.8552278876304626, training acc: 0.8434704542160034\n",
      "epoch number: 150, loss: 0.2521679401397705, accuracy on val: 0.8471850156784058, training acc: 0.8528622388839722\n",
      "epoch number: 200, loss: 0.24556037783622742, accuracy on val: 0.8404825925827026, training acc: 0.8555456399917603\n",
      "epoch number: 250, loss: 0.24665307998657227, accuracy on val: 0.8485254645347595, training acc: 0.857334554195404\n",
      "epoch number: 300, loss: 0.24320688843727112, accuracy on val: 0.8565683364868164, training acc: 0.8631484508514404\n",
      "epoch number: 350, loss: 0.23971305787563324, accuracy on val: 0.8485254645347595, training acc: 0.8613595962524414\n",
      "epoch number: 400, loss: 0.2398984581232071, accuracy on val: 0.8498659729957581, training acc: 0.8586761951446533\n",
      "epoch number: 450, loss: 0.240502268075943, accuracy on val: 0.8485254645347595, training acc: 0.8640429377555847\n",
      "done\n"
     ]
    },
    {
     "data": {
      "image/png": "[encoded data removed]",
      "text/plain": [
       "<Figure size 600x600 with 1 Axes>"
      ]
     },
     "metadata": {},
     "output_type": "display_data"
    }
   ],
   "source": [
    "import matplotlib.pyplot as plt\n",
    "\n",
    "model = lmodel()\n",
    "criterion = nn.BCELoss()\n",
    "optimizer = torch.optim.Adam(model.parameters(),lr=0.003)\n",
    "\n",
    "accLog = []\n",
    "acclog2 = []\n",
    "epochs = 500\n",
    "for epoch in range(0,epochs):\n",
    "    val = model.forward(x=train_x)\n",
    "    val = val.squeeze(1)\n",
    "    \n",
    "    loss = criterion(val,train_y)\n",
    "\n",
    "    loss.backward()\n",
    "    torch.nn.utils.clip_grad_norm_(model.parameters(),max_norm=1.0)\n",
    "    optimizer.step()\n",
    "    optimizer.zero_grad()\n",
    "    accLog.append(loss.item())\n",
    "    with torch.no_grad():\n",
    "        model_outputs = model.forward(x=val_x).squeeze(1)\n",
    "        threshold = 0.5\n",
    "        predicted_labels = (model_outputs >= threshold).float()  # Convert to 0 or 1\n",
    "\n",
    "        # Step 2: Compare predictions with true labels\n",
    "        correct_predictions = (predicted_labels == val_y).float()\n",
    "\n",
    "        # Step 3: Calculate accuracy\n",
    "        accuracy = correct_predictions.sum() / len(val_y)\n",
    "        \n",
    "        model_outputs = model.forward(x=train_x).squeeze(1)\n",
    "        threshold = 0.5\n",
    "        predicted_labels = (model_outputs >= threshold).float()  # Convert to 0 or 1\n",
    "\n",
    "        # Step 2: Compare predictions with true labels\n",
    "        correct_predictions = (predicted_labels == train_y).float()\n",
    "\n",
    "        # Step 3: Calculate accuracy\n",
    "        accuracy2 = correct_predictions.sum() / len(train_y)\n",
    "        \n",
    "    print(f\"epoch number: {epoch}, loss: {loss.item()}, accuracy on val: {accuracy}, training acc: {accuracy2}\")if epoch%50==0 else None\n",
    "    \n",
    "fig,ax = plt.subplots(figsize=(6,6))\n",
    "\n",
    "ax.plot(range(0,epochs),accLog,label=\"Loss\")\n",
    "plt.legend()\n",
    "print(\"done\")\n",
    "plt.show()\n",
    "    "
   ]
  },
  {
   "cell_type": "code",
   "execution_count": 344,
   "metadata": {},
   "outputs": [
    {
     "name": "stdout",
     "output_type": "stream",
     "text": [
      "[[5 5 0 0 0 0 0]]\n",
      "chances of getting employed: 50.47%\n"
     ]
    }
   ],
   "source": [
    "#validation\n",
    "columns = [\"GENERAL APPEARANCE\", \"MANNER OF SPEAKING\", \"PHYSICAL CONDITION\", \n",
    "           \"MENTAL ALERTNESS\", \"SELF-CONFIDENCE\", \"ABILITY TO PRESENT IDEAS\", \n",
    "           \"COMMUNICATION SKILLS\"]\n",
    "\n",
    "value=[5,5,0,0,0,0,0]\n",
    "# ans = \"\"\n",
    "# for v in columns:\n",
    "#     ans = int(input(\"your \" + v + \" (rate 1-5, integer only.)\"))\n",
    "#     while(ans <0 or ans >5):\n",
    "#         ans = int(input(\"your \" + v + \" (rate 1-5, integer only.)\"))\n",
    "        \n",
    "#     value.append(ans)\n",
    "\n",
    "value = np.array(value)\n",
    "value = value.reshape(1,7)\n",
    "print(value)\n",
    "\n",
    "value = scaler.transform(value)\n",
    "inTensor=torch.tensor(value,dtype=torch.float32)\n",
    "\n",
    "model = lmodel()\n",
    "\n",
    "with torch.no_grad():\n",
    "    pred = model.forward(inTensor)\n",
    "\n",
    "print(f\"chances of getting employed: {round(float(pred)*100,2)}%\")\n"
   ]
  }
 ],
 "metadata": {
  "kernelspec": {
   "display_name": "base",
   "language": "python",
   "name": "python3"
  },
  "language_info": {
   "codemirror_mode": {
    "name": "ipython",
    "version": 3
   },
   "file_extension": ".py",
   "mimetype": "text/x-python",
   "name": "python",
   "nbconvert_exporter": "python",
   "pygments_lexer": "ipython3",
   "version": "3.12.4"
  }
 },
 "nbformat": 4,
 "nbformat_minor": 2
}
